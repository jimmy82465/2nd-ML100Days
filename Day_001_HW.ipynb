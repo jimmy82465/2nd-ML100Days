{
 "cells": [
  {
   "cell_type": "markdown",
   "metadata": {},
   "source": [
    "## 練習時間\n",
    "#### 請寫一個函式用來計算 Mean Square Error\n",
    "$ MSE = \\frac{1}{n}\\sum_{i=1}^{n}{(Y_i - \\hat{Y}_i)^2} $\n",
    "\n",
    "### Hint: [如何取平方](https://googoodesign.gitbooks.io/-ezpython/unit-1.html)"
   ]
  },
  {
   "cell_type": "code",
   "execution_count": 28,
   "metadata": {},
   "outputs": [],
   "source": [
    "import numpy as np\n",
    "import matplotlib.pyplot as plt"
   ]
  },
  {
   "cell_type": "code",
   "execution_count": 29,
   "metadata": {},
   "outputs": [
    {
     "name": "stdout",
     "output_type": "stream",
     "text": [
      "the mean square error is:  170.90575\n",
      "the absolute error is:  10.15461\n"
     ]
    }
   ],
   "source": [
    "#函式用來計算 Mean Square Error\n",
    "def mean_squared_error(y,yp):\n",
    "    mse=MSE=sum((y-yp)**2)/len(y)\n",
    "    return mse\n",
    "MSE=mean_squared_error(y,y_hat)\n",
    "print(\"the mean square error is:  %.5f\" %(MSE))\n",
    "\n",
    "#函式用來計算 Mean absolute Error\n",
    "\n",
    "def mean_absolute_error(y,yp):\n",
    "    mae=MAE=sum(abs(y-yp))/len(y)\n",
    "    return mae\n",
    "MAE=mean_absolute_error(y,y_hat)\n",
    "print(\"the absolute error is:  %.5f\" %(MAE))\n",
    " "
   ]
  },
  {
   "cell_type": "code",
   "execution_count": 30,
   "metadata": {},
   "outputs": [
    {
     "data": {
      "image/png": "[encoded data removed]",
      "text/plain": [
       "<Figure size 432x288 with 1 Axes>"
      ]
     },
     "metadata": {
      "needs_background": "light"
     },
     "output_type": "display_data"
    }
   ],
   "source": [
    "w = 3\n",
    "b = 0.5\n",
    "\n",
    "x_lin = np.linspace(0, 100, 101)\n",
    "\n",
    "y = (x_lin + np.random.randn(101) * 5) * w + b\n",
    "\n",
    "plt.plot(x_lin, y, 'b.', label = 'data points')\n",
    "plt.title(\"Assume we have data points\")\n",
    "plt.legend(loc = 2)\n",
    "plt.show()"
   ]
  },
  {
   "cell_type": "code",
   "execution_count": 31,
   "metadata": {},
   "outputs": [
    {
     "data": {
      "image/png": "[encoded data removed]",
      "text/plain": [
       "<Figure size 432x288 with 1 Axes>"
      ]
     },
     "metadata": {
      "needs_background": "light"
     },
     "output_type": "display_data"
    }
   ],
   "source": [
    "y_hat = x_lin * w + b\n",
    "plt.plot(x_lin, y, 'b.', label = 'data')\n",
    "plt.plot(x_lin, y_hat, 'r-', label = 'prediction')\n",
    "plt.title(\"Assume we have data points (And the prediction)\")\n",
    "plt.legend(loc = 2)\n",
    "plt.show()"
   ]
  },
  {
   "cell_type": "code",
   "execution_count": 32,
   "metadata": {},
   "outputs": [
    {
     "name": "stdout",
     "output_type": "stream",
     "text": [
      "The Mean squared error is 170.982\n",
      "The Mean absolute error is 10.496\n"
     ]
    }
   ],
   "source": [
    "# 執行 Function, 確認有沒有正常執行\n",
    "MSE = mean_squared_error(y, y_hat)\n",
    "MAE = mean_absolute_error(y, y_hat)\n",
    "print(\"The Mean squared error is %.3f\" % (MSE))\n",
    "print(\"The Mean absolute error is %.3f\" % (MAE))"
   ]
  },
  {
   "cell_type": "code",
   "execution_count": null,
   "metadata": {},
   "outputs": [],
   "source": [
    "第1題:\n",
    "    Q1: 你選的這組資料為何重要?\n",
    "        \n",
    "    A1: 我在Kaggle dataset 中找到有關 heart disease 資料\n",
    "    選這組資料的原因是因為說明明確 而且資料公開可以讓我清楚觀察\n",
    "    跟我生活息息相關 我認為是很好的題材\n",
    "    \n",
    "    Q2:資料從何而來 (tips: 譬如提供者是誰、以什麼方式蒐集)?\n",
    "        \n",
    "    A2:資料是由作者ronit在10個月年公布的\n",
    "    提供資料者與顧問有:\n",
    "    1. Hungarian Institute of Cardiology. Budapest: Andras Janosi, M.D. \n",
    "    2. University Hospital, Zurich, Switzerland: William Steinbrunn, M.D. \n",
    "    3. University Hospital, Basel, Switzerland: Matthias Pfisterer, M.D. \n",
    "    4. V.A. Medical Center, Long Beach and Cleveland Clinic Foundation: Robert Detrano, M.D., Ph.D.\n",
    "    捐贈者:David W. Aha \n",
    "        \n",
    "    Q3:蒐集而來的資料型態為何?\n",
    "        \n",
    "    A3:作者有留下資料來源  資料型態為.CSV檔 EXCEL開啟後 \n",
    "    是有關各類數據對心臟疾病的相關數據\n",
    "    \n",
    "    Q4:這組資料想解決的問題如何評估?\n",
    "        \n",
    "    A4:在表格跟圖形的相互關係中 可以觀察到許多像是年紀 性別 胸痛形式等等\n",
    "    在分析之下 我想我們可以利用數據來增加對身體的警訊 以降低心臟疾病突發\n",
    "    像是女生發病的比率低於男性 我們可以加強對男性心臟疾病的研究\n",
    "    \n",
    "    "
   ]
  },
  {
   "cell_type": "code",
   "execution_count": null,
   "metadata": {},
   "outputs": [],
   "source": [
    "第2題:\n",
    "    \n",
    "    1. 核心問題為何 (tips：如何定義 「提升業績 & 你的假設」)?\n",
    "\n",
    "    A1:我需要的資料應該要包含人口在某地區的密度 以及人群在地區外出的交通工具需求\n",
    "    還有人口最多在外面出現時間 \n",
    "    如果我知道了人口密度 我會選擇在密度比較高的地方經營車隊 原因是我可以有比較高的客群\n",
    "    在來就是當地人習慣的交通工具總類 像是公車或是捷運過於進步的地方 我也許可以減少派出去車隊數量\n",
    "    再來是外出時間 我可以選擇多人下班時期 或是特殊節日 我更可以在機場等待下機人群 或是在火車站可能到達班次時間進行研究\n",
    "    \n",
    "    2. 資料從何而來 (tips：哪些資料可能會對你想問的問題產生影響 & 資料如何蒐集)?\n",
    "\n",
    "    A2:我可以從公開資料(內政部戶政司全球資訊網－ 人口資料)中獲得有關人口密度 \n",
    "    由政府資料開放平台中可以得出:性別、年齡、教育程度、外出較常使用運具、外出最常使用運具、昨天有沒有外出等等\n",
    "    再來我可以在 中華民國交通部取得 民眾使用運具狀況調查栽要分析 可以得出公共運輸市占率\n",
    "    在台灣地區交通統計資料庫中可以得出台灣各車站客運量\n",
    "    \n",
    "    3. 蒐集而來的資料型態為何?\n",
    "\n",
    "    A3:人口密度,較常使用運具,公共運輸市佔率,各車站客運量皆有.CSV檔的\n",
    "    \n",
    "    4. 你要回答的問題，其如何評估 (tips：你的假設如何驗證)?\n",
    "\n",
    "    A4:我可以在當地先做問卷調查 自己收集資料 像是市區載客價錢接受度 以及需求頻率多寡\n",
    "    經過調查之後可以在思考一下可行程度 並且我可以尋求專業的老師們的建議"
   ]
  },
  {
   "cell_type": "code",
   "execution_count": null,
   "metadata": {},
   "outputs": [],
   "source": []
  }
 ],
 "metadata": {
  "anaconda-cloud": {},
  "kernelspec": {
   "display_name": "Python 3",
   "language": "python",
   "name": "python3"
  },
  "language_info": {
   "codemirror_mode": {
    "name": "ipython",
    "version": 3
   },
   "file_extension": ".py",
   "mimetype": "text/x-python",
   "name": "python",
   "nbconvert_exporter": "python",
   "pygments_lexer": "ipython3",
   "version": "3.7.3"
  }
 },
 "nbformat": 4,
 "nbformat_minor": 1
}
