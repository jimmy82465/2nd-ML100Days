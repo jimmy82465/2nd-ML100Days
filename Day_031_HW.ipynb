{
 "cells": [
  {
   "cell_type": "markdown",
   "metadata": {},
   "source": [
    "## 練習時間"
   ]
  },
  {
   "cell_type": "markdown",
   "metadata": {},
   "source": [
    "請觀看台大電機李宏毅教授的影片。李教授會用非常淺顯易懂的方式介紹甚麼是機器學習。\n"
   ]
  },
  {
   "cell_type": "markdown",
   "metadata": {},
   "source": [
    "[youtube](https://www.youtube.com/watch?v=CXgbekl66jc)"
   ]
  },
  {
   "cell_type": "markdown",
   "metadata": {},
   "source": [
    "## 請找出一個你認為機器學習可以發光發熱的領域並闡述原因? "
   ]
  },
  {
   "cell_type": "markdown",
   "metadata": {},
   "source": [
    "這一陣子我聽到多關於\"自動駕駛\"相關的話題 這中間可能需要有關Supervised learning的技術\n",
    "但是我不想要再討論自駕的部分,我認為自駕可以應用在物流方面,在物流方面,我看到相當多公司都是利用天花板設計軌道然後搬運物料的車子在上面快速移動,但是大型的物料需要大量的油壓板車以及占板的堆疊,如果我們可以藉由機器學習讓物料可以自行移動,我想這個絕對可以造福人類,硬體應用的方面,我認為可以研發類似滾輪的系統,簡單的固定在任何我想要移動的物料下面,即可自行移動。\n",
    "需要收集的資料我認為有地形是否可以移動,還有障礙的辨識,以及最短路線的學習。"
   ]
  }
 ],
 "metadata": {
  "kernelspec": {
   "display_name": "Python 3",
   "language": "python",
   "name": "python3"
  },
  "language_info": {
   "codemirror_mode": {
    "name": "ipython",
    "version": 3
   },
   "file_extension": ".py",
   "mimetype": "text/x-python",
   "name": "python",
   "nbconvert_exporter": "python",
   "pygments_lexer": "ipython3",
   "version": "3.7.3"
  }
 },
 "nbformat": 4,
 "nbformat_minor": 2
}
